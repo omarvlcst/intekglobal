{
 "cells": [
  {
   "cell_type": "code",
   "execution_count": 7,
   "id": "b80a2f24",
   "metadata": {},
   "outputs": [
    {
     "name": "stdout",
     "output_type": "stream",
     "text": [
      "x =  1\n",
      "new =  1\n",
      "x =  2\n",
      "new =  21\n",
      "x =  3\n",
      "new =  321\n",
      "x =  4\n",
      "new =  4321\n",
      "x =  3\n",
      "new =  34321\n",
      "x =  2\n",
      "new =  234321\n",
      "x =  1\n",
      "new =  1234321\n",
      "Yes\n"
     ]
    }
   ],
   "source": [
    "old = '1234321'\n",
    "new = ''\n",
    "for x in old:\n",
    "    new = x + new\n",
    "    print('x = ',x)\n",
    "    print('new = ',new)\n",
    " \n",
    "if old == new:\n",
    "    print(\"Yes\")\n",
    "else:\n",
    "    print(\"No\")"
   ]
  },
  {
   "cell_type": "code",
   "execution_count": null,
   "id": "669df998",
   "metadata": {},
   "outputs": [],
   "source": []
  }
 ],
 "metadata": {
  "kernelspec": {
   "display_name": "Python 3 (ipykernel)",
   "language": "python",
   "name": "python3"
  },
  "language_info": {
   "codemirror_mode": {
    "name": "ipython",
    "version": 3
   },
   "file_extension": ".py",
   "mimetype": "text/x-python",
   "name": "python",
   "nbconvert_exporter": "python",
   "pygments_lexer": "ipython3",
   "version": "3.9.13"
  }
 },
 "nbformat": 4,
 "nbformat_minor": 5
}
