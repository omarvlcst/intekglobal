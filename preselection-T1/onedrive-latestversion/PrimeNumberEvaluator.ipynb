{
 "cells": [
  {
   "cell_type": "code",
   "execution_count": 3,
   "id": "22408386",
   "metadata": {},
   "outputs": [],
   "source": [
    "def PrimeNumberEvaluator(number):\n",
    "    if type(number) is int:\n",
    "        factors = []\n",
    "        if number <= 1:\n",
    "            print(f\"{number} NO es un número primo, intenta con un entero positivo distinto\")\n",
    "        else:\n",
    "            for factor in range(2, number):\n",
    "                if number % factor == 0:\n",
    "                    factors.append(factor)\n",
    "            if len(factors) == 0:\n",
    "                print(f\"{number} ES UN NÚMERO PRIMO.\")\n",
    "            else:\n",
    "                print(f\"{number} NO es un número primo, puesto que es divisible por: {', '.join(map(str, factors))}.\")\n",
    "    else:\n",
    "        return \"Número no válido. Intenta con un número entero positivo, que no sea de punto flotante\""
   ]
  },
  {
   "cell_type": "code",
   "execution_count": 4,
   "id": "6e248f78",
   "metadata": {},
   "outputs": [
    {
     "name": "stdout",
     "output_type": "stream",
     "text": [
      "2 ES UN NÚMERO PRIMO.\n",
      "3 ES UN NÚMERO PRIMO.\n",
      "4 NO es un número primo, puesto que es divisible por: 2.\n",
      "5 ES UN NÚMERO PRIMO.\n",
      "6 NO es un número primo, puesto que es divisible por: 2, 3.\n",
      "7 ES UN NÚMERO PRIMO.\n",
      "8 NO es un número primo, puesto que es divisible por: 2, 4.\n",
      "9 NO es un número primo, puesto que es divisible por: 3.\n",
      "10 NO es un número primo, puesto que es divisible por: 2, 5.\n",
      "11 ES UN NÚMERO PRIMO.\n",
      "12 NO es un número primo, puesto que es divisible por: 2, 3, 4, 6.\n",
      "13 ES UN NÚMERO PRIMO.\n",
      "14 NO es un número primo, puesto que es divisible por: 2, 7.\n",
      "15 NO es un número primo, puesto que es divisible por: 3, 5.\n",
      "16 NO es un número primo, puesto que es divisible por: 2, 4, 8.\n",
      "17 ES UN NÚMERO PRIMO.\n",
      "18 NO es un número primo, puesto que es divisible por: 2, 3, 6, 9.\n",
      "19 ES UN NÚMERO PRIMO.\n",
      "20 NO es un número primo, puesto que es divisible por: 2, 4, 5, 10.\n",
      "21 NO es un número primo, puesto que es divisible por: 3, 7.\n",
      "22 NO es un número primo, puesto que es divisible por: 2, 11.\n",
      "23 ES UN NÚMERO PRIMO.\n",
      "24 NO es un número primo, puesto que es divisible por: 2, 3, 4, 6, 8, 12.\n",
      "25 NO es un número primo, puesto que es divisible por: 5.\n",
      "26 NO es un número primo, puesto que es divisible por: 2, 13.\n",
      "27 NO es un número primo, puesto que es divisible por: 3, 9.\n",
      "28 NO es un número primo, puesto que es divisible por: 2, 4, 7, 14.\n",
      "29 ES UN NÚMERO PRIMO.\n",
      "30 NO es un número primo, puesto que es divisible por: 2, 3, 5, 6, 10, 15.\n",
      "31 ES UN NÚMERO PRIMO.\n",
      "32 NO es un número primo, puesto que es divisible por: 2, 4, 8, 16.\n",
      "33 NO es un número primo, puesto que es divisible por: 3, 11.\n",
      "34 NO es un número primo, puesto que es divisible por: 2, 17.\n",
      "35 NO es un número primo, puesto que es divisible por: 5, 7.\n",
      "36 NO es un número primo, puesto que es divisible por: 2, 3, 4, 6, 9, 12, 18.\n",
      "37 ES UN NÚMERO PRIMO.\n",
      "38 NO es un número primo, puesto que es divisible por: 2, 19.\n",
      "39 NO es un número primo, puesto que es divisible por: 3, 13.\n",
      "40 NO es un número primo, puesto que es divisible por: 2, 4, 5, 8, 10, 20.\n",
      "41 ES UN NÚMERO PRIMO.\n",
      "42 NO es un número primo, puesto que es divisible por: 2, 3, 6, 7, 14, 21.\n",
      "43 ES UN NÚMERO PRIMO.\n",
      "44 NO es un número primo, puesto que es divisible por: 2, 4, 11, 22.\n",
      "45 NO es un número primo, puesto que es divisible por: 3, 5, 9, 15.\n",
      "46 NO es un número primo, puesto que es divisible por: 2, 23.\n",
      "47 ES UN NÚMERO PRIMO.\n",
      "48 NO es un número primo, puesto que es divisible por: 2, 3, 4, 6, 8, 12, 16, 24.\n",
      "49 NO es un número primo, puesto que es divisible por: 7.\n",
      "50 NO es un número primo, puesto que es divisible por: 2, 5, 10, 25.\n",
      "51 NO es un número primo, puesto que es divisible por: 3, 17.\n",
      "52 NO es un número primo, puesto que es divisible por: 2, 4, 13, 26.\n",
      "53 ES UN NÚMERO PRIMO.\n",
      "54 NO es un número primo, puesto que es divisible por: 2, 3, 6, 9, 18, 27.\n",
      "55 NO es un número primo, puesto que es divisible por: 5, 11.\n",
      "56 NO es un número primo, puesto que es divisible por: 2, 4, 7, 8, 14, 28.\n",
      "57 NO es un número primo, puesto que es divisible por: 3, 19.\n",
      "58 NO es un número primo, puesto que es divisible por: 2, 29.\n",
      "59 ES UN NÚMERO PRIMO.\n",
      "60 NO es un número primo, puesto que es divisible por: 2, 3, 4, 5, 6, 10, 12, 15, 20, 30.\n",
      "61 ES UN NÚMERO PRIMO.\n",
      "62 NO es un número primo, puesto que es divisible por: 2, 31.\n",
      "63 NO es un número primo, puesto que es divisible por: 3, 7, 9, 21.\n",
      "64 NO es un número primo, puesto que es divisible por: 2, 4, 8, 16, 32.\n",
      "65 NO es un número primo, puesto que es divisible por: 5, 13.\n",
      "66 NO es un número primo, puesto que es divisible por: 2, 3, 6, 11, 22, 33.\n",
      "67 ES UN NÚMERO PRIMO.\n",
      "68 NO es un número primo, puesto que es divisible por: 2, 4, 17, 34.\n",
      "69 NO es un número primo, puesto que es divisible por: 3, 23.\n",
      "70 NO es un número primo, puesto que es divisible por: 2, 5, 7, 10, 14, 35.\n",
      "71 ES UN NÚMERO PRIMO.\n",
      "72 NO es un número primo, puesto que es divisible por: 2, 3, 4, 6, 8, 9, 12, 18, 24, 36.\n",
      "73 ES UN NÚMERO PRIMO.\n",
      "74 NO es un número primo, puesto que es divisible por: 2, 37.\n",
      "75 NO es un número primo, puesto que es divisible por: 3, 5, 15, 25.\n",
      "76 NO es un número primo, puesto que es divisible por: 2, 4, 19, 38.\n",
      "77 NO es un número primo, puesto que es divisible por: 7, 11.\n",
      "78 NO es un número primo, puesto que es divisible por: 2, 3, 6, 13, 26, 39.\n",
      "79 ES UN NÚMERO PRIMO.\n",
      "80 NO es un número primo, puesto que es divisible por: 2, 4, 5, 8, 10, 16, 20, 40.\n",
      "81 NO es un número primo, puesto que es divisible por: 3, 9, 27.\n",
      "82 NO es un número primo, puesto que es divisible por: 2, 41.\n",
      "83 ES UN NÚMERO PRIMO.\n",
      "84 NO es un número primo, puesto que es divisible por: 2, 3, 4, 6, 7, 12, 14, 21, 28, 42.\n",
      "85 NO es un número primo, puesto que es divisible por: 5, 17.\n",
      "86 NO es un número primo, puesto que es divisible por: 2, 43.\n",
      "87 NO es un número primo, puesto que es divisible por: 3, 29.\n",
      "88 NO es un número primo, puesto que es divisible por: 2, 4, 8, 11, 22, 44.\n",
      "89 ES UN NÚMERO PRIMO.\n",
      "90 NO es un número primo, puesto que es divisible por: 2, 3, 5, 6, 9, 10, 15, 18, 30, 45.\n",
      "91 NO es un número primo, puesto que es divisible por: 7, 13.\n",
      "92 NO es un número primo, puesto que es divisible por: 2, 4, 23, 46.\n",
      "93 NO es un número primo, puesto que es divisible por: 3, 31.\n",
      "94 NO es un número primo, puesto que es divisible por: 2, 47.\n",
      "95 NO es un número primo, puesto que es divisible por: 5, 19.\n",
      "96 NO es un número primo, puesto que es divisible por: 2, 3, 4, 6, 8, 12, 16, 24, 32, 48.\n",
      "97 ES UN NÚMERO PRIMO.\n",
      "98 NO es un número primo, puesto que es divisible por: 2, 7, 14, 49.\n",
      "99 NO es un número primo, puesto que es divisible por: 3, 9, 11, 33.\n"
     ]
    }
   ],
   "source": [
    "for x in range(2,100):\n",
    "    PrimeNumberEvaluator(x)"
   ]
  },
  {
   "cell_type": "code",
   "execution_count": 5,
   "id": "e8e6d9a9",
   "metadata": {},
   "outputs": [
    {
     "data": {
      "text/plain": [
       "'Número no válido. Intenta con un número entero positivo, que no sea de punto flotante'"
      ]
     },
     "execution_count": 5,
     "metadata": {},
     "output_type": "execute_result"
    }
   ],
   "source": [
    "PrimeNumberEvaluator(1.63)"
   ]
  },
  {
   "cell_type": "code",
   "execution_count": null,
   "id": "81303d40",
   "metadata": {},
   "outputs": [],
   "source": []
  }
 ],
 "metadata": {
  "kernelspec": {
   "display_name": "Python 3 (ipykernel)",
   "language": "python",
   "name": "python3"
  },
  "language_info": {
   "codemirror_mode": {
    "name": "ipython",
    "version": 3
   },
   "file_extension": ".py",
   "mimetype": "text/x-python",
   "name": "python",
   "nbconvert_exporter": "python",
   "pygments_lexer": "ipython3",
   "version": "3.9.13"
  }
 },
 "nbformat": 4,
 "nbformat_minor": 5
}
