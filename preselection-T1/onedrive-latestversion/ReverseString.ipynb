{
 "cells": [
  {
   "cell_type": "code",
   "execution_count": 3,
   "id": "bbd5a21c",
   "metadata": {},
   "outputs": [
    {
     "name": "stdout",
     "output_type": "stream",
     "text": [
      "54321\n"
     ]
    }
   ],
   "source": [
    "array = '12345'\n",
    "new = ''\n",
    "N = len(array)-1\n",
    "while N>=0:\n",
    "    new=new+array[N]\n",
    "    N=N-1\n",
    "print(new)"
   ]
  },
  {
   "cell_type": "markdown",
   "id": "f75a6408",
   "metadata": {},
   "source": [
    "PSEUDOCODIGO:\n",
    "\n",
    "array = '12345'            #Input string\n",
    "new = ''                   #Define empty string\n",
    "N = length(array)          #For Python, N=len(array)-1, because Python enumerates elements from 0, 1, ... to N-1 in an array of N elements\n",
    "while N>=0:\n",
    "    new = new + array[N]   #Assign new empty string each value in the original string, starting from the last to the first\n",
    "    N = N - 1              #Go down in N, start from the last and end up at the first item\n",
    "\n",
    "print(new)"
   ]
  }
 ],
 "metadata": {
  "kernelspec": {
   "display_name": "Python 3 (ipykernel)",
   "language": "python",
   "name": "python3"
  },
  "language_info": {
   "codemirror_mode": {
    "name": "ipython",
    "version": 3
   },
   "file_extension": ".py",
   "mimetype": "text/x-python",
   "name": "python",
   "nbconvert_exporter": "python",
   "pygments_lexer": "ipython3",
   "version": "3.9.13"
  }
 },
 "nbformat": 4,
 "nbformat_minor": 5
}
