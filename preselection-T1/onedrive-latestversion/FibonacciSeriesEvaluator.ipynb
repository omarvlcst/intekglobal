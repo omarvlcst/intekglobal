{
 "cells": [
  {
   "cell_type": "code",
   "execution_count": 4,
   "id": "babf14a4",
   "metadata": {},
   "outputs": [],
   "source": [
    "def FibonacciSeriesEvaluator(n):\n",
    "    if type(n) is int:\n",
    "        if n < 0:\n",
    "            print(\"Valor incorrecto, elige un número entero positivo\")\n",
    "        elif n == 0:\n",
    "            return 0\n",
    "        elif n == 1 or n == 2:\n",
    "            return 1\n",
    "        else:\n",
    "            return FibonacciSeriesEvaluator(n-1) + FibonacciSeriesEvaluator(n-2)\n",
    "    else:\n",
    "        return \"Valor incorrecto, elige un número entero positivo sin punto flotante\""
   ]
  },
  {
   "cell_type": "code",
   "execution_count": 5,
   "id": "a8c988fe",
   "metadata": {},
   "outputs": [
    {
     "name": "stdout",
     "output_type": "stream",
     "text": [
      "0\n",
      "1\n",
      "1\n",
      "2\n",
      "3\n",
      "5\n",
      "8\n",
      "13\n",
      "21\n",
      "34\n",
      "55\n"
     ]
    }
   ],
   "source": [
    "for x in range(0,11):\n",
    "    print(FibonacciSeriesEvaluator(x))"
   ]
  },
  {
   "cell_type": "code",
   "execution_count": 6,
   "id": "975e1b38",
   "metadata": {},
   "outputs": [
    {
     "data": {
      "text/plain": [
       "'Valor incorrecto, elige un número entero positivo sin punto flotante'"
      ]
     },
     "execution_count": 6,
     "metadata": {},
     "output_type": "execute_result"
    }
   ],
   "source": [
    "FibonacciSeriesEvaluator(5.0)"
   ]
  }
 ],
 "metadata": {
  "kernelspec": {
   "display_name": "Python 3 (ipykernel)",
   "language": "python",
   "name": "python3"
  },
  "language_info": {
   "codemirror_mode": {
    "name": "ipython",
    "version": 3
   },
   "file_extension": ".py",
   "mimetype": "text/x-python",
   "name": "python",
   "nbconvert_exporter": "python",
   "pygments_lexer": "ipython3",
   "version": "3.9.13"
  }
 },
 "nbformat": 4,
 "nbformat_minor": 5
}
