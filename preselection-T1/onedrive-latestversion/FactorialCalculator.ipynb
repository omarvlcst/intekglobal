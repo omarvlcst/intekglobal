{
 "cells": [
  {
   "cell_type": "code",
   "execution_count": 12,
   "id": "2ab31689",
   "metadata": {},
   "outputs": [],
   "source": [
    "def FactorialNumberCalculator(x):\n",
    "    if type(x) is int:\n",
    "        if x==0 or x==1:\n",
    "            return 1\n",
    "        elif x < 0:\n",
    "            return \"Operación no válida, intentar con un entero positivo\"\n",
    "        else:\n",
    "            return x*FactorialNumberCalculator(x-1)\n",
    "    else:\n",
    "        return \"Operación no válida, intentar con un entero positivo sin punto flotante\""
   ]
  },
  {
   "cell_type": "code",
   "execution_count": 13,
   "id": "773e1ec0",
   "metadata": {},
   "outputs": [
    {
     "data": {
      "text/plain": [
       "'Operación no válida, intentar con un entero positivo sin punto flotante'"
      ]
     },
     "execution_count": 13,
     "metadata": {},
     "output_type": "execute_result"
    }
   ],
   "source": [
    "FactorialNumberCalculator(1.0)"
   ]
  },
  {
   "cell_type": "code",
   "execution_count": 15,
   "id": "652d62e1",
   "metadata": {},
   "outputs": [
    {
     "data": {
      "text/plain": [
       "121645100408832000"
      ]
     },
     "execution_count": 15,
     "metadata": {},
     "output_type": "execute_result"
    }
   ],
   "source": [
    "FactorialNumberCalculator(19)"
   ]
  },
  {
   "cell_type": "code",
   "execution_count": null,
   "id": "5eee2418",
   "metadata": {},
   "outputs": [],
   "source": []
  }
 ],
 "metadata": {
  "kernelspec": {
   "display_name": "Python 3 (ipykernel)",
   "language": "python",
   "name": "python3"
  },
  "language_info": {
   "codemirror_mode": {
    "name": "ipython",
    "version": 3
   },
   "file_extension": ".py",
   "mimetype": "text/x-python",
   "name": "python",
   "nbconvert_exporter": "python",
   "pygments_lexer": "ipython3",
   "version": "3.9.13"
  }
 },
 "nbformat": 4,
 "nbformat_minor": 5
}
