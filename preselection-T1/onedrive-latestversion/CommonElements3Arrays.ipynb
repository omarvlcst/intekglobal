{
 "cells": [
  {
   "cell_type": "code",
   "execution_count": 2,
   "id": "a6cdfdd7",
   "metadata": {},
   "outputs": [
    {
     "name": "stdout",
     "output_type": "stream",
     "text": [
      "20\n",
      "20\n",
      "80\n"
     ]
    }
   ],
   "source": [
    "def intersection(a1, a2, a3, n1, n2, n3):\n",
    "    i, j, k = 0, 0, 0\n",
    "    while (i < n1 and j < n2 and k < n3):\n",
    "        if (a1[i] == a2[j] and a2[j] == a3[k]):\n",
    "            print(a1[i])\n",
    "            i += 1\n",
    "            j += 1\n",
    "            k += 1\n",
    "        elif a1[i] < a2[j]:\n",
    "            i += 1\n",
    "        elif a2[j] < a3[k]:\n",
    "            j += 1\n",
    "        else:\n",
    "            k += 1\n",
    " \n",
    " \n",
    "# Arrays\n",
    "A = [1, 5, 10, 20, 20, 40, 80]\n",
    "B = [6, 7, 20, 20, 80, 100]\n",
    "C = [3, 4, 15, 20, 20, 30, 70, 80, 120]\n",
    "n1 = len(A)\n",
    "n2 = len(B)\n",
    "n3 = len(C)\n",
    "intersection(A, B, C, n1, n2, n3)"
   ]
  },
  {
   "cell_type": "markdown",
   "id": "5591c139",
   "metadata": {},
   "source": [
    "PSEUDOCODIGO\n",
    "A = array1\n",
    "B = array2\n",
    "C = array3\n",
    "N1 = length(A)\n",
    "N2 = length(B)\n",
    "N3 = length(C)\n",
    "i = 0\n",
    "j = 0\n",
    "k = 0\n",
    "\n",
    "while i<N1 and j<N2 and k<N3:\n",
    "    if A[i] == B[j] == C[k]:\n",
    "        print(A[i])\n",
    "        i = i+1\n",
    "        j = j+1\n",
    "        k = k+1\n",
    "    else if A[i]<B[j]:\n",
    "        i = i+1\n",
    "    else if B[j]<C[k]:\n",
    "        j = j+1\n",
    "    else:\n",
    "        k = k+1"
   ]
  },
  {
   "cell_type": "code",
   "execution_count": null,
   "id": "97c513cf",
   "metadata": {},
   "outputs": [],
   "source": []
  }
 ],
 "metadata": {
  "kernelspec": {
   "display_name": "Python 3 (ipykernel)",
   "language": "python",
   "name": "python3"
  },
  "language_info": {
   "codemirror_mode": {
    "name": "ipython",
    "version": 3
   },
   "file_extension": ".py",
   "mimetype": "text/x-python",
   "name": "python",
   "nbconvert_exporter": "python",
   "pygments_lexer": "ipython3",
   "version": "3.9.13"
  }
 },
 "nbformat": 4,
 "nbformat_minor": 5
}
